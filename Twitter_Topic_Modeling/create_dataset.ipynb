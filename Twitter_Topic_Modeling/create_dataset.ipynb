{
  "nbformat": 4,
  "nbformat_minor": 0,
  "metadata": {
    "colab": {
      "provenance": []
    },
    "kernelspec": {
      "name": "python3",
      "display_name": "Python 3"
    },
    "language_info": {
      "name": "python"
    }
  },
  "cells": [
    {
      "cell_type": "code",
      "source": [
        "!pip install ntscraper"
      ],
      "metadata": {
        "id": "3Zvpyn38vMmC"
      },
      "execution_count": null,
      "outputs": []
    },
    {
      "cell_type": "code",
      "execution_count": null,
      "metadata": {
        "id": "PUfsF-hzvBLk"
      },
      "outputs": [],
      "source": [
        "import pandas as pd\n",
        "from ntscraper import Nitter"
      ]
    },
    {
      "cell_type": "code",
      "source": [
        "scraper = Nitter()"
      ],
      "metadata": {
        "id": "a96sqm2bvWOJ"
      },
      "execution_count": null,
      "outputs": []
    },
    {
      "cell_type": "code",
      "source": [
        "def get_tweets(name, modes, no):\n",
        "  tweets = scraper.get_tweets(name, mode = modes , number=no)\n",
        "  final_tweets = []\n",
        "  for tweet in tweets['tweets']:\n",
        "    data = [tweet['link'], tweet['text'], tweet['date'], tweet['stats']['likes'], tweet['stats']['comments']]\n",
        "    final_tweets.append(data)\n",
        "  data = pd.DataFrame(final_tweets, columns = ['link','text','date','No_of_Likes','No_of_tweets'])\n",
        "  return data"
      ],
      "metadata": {
        "id": "ubUIJwM6v7nD"
      },
      "execution_count": null,
      "outputs": []
    },
    {
      "cell_type": "code",
      "source": [
        "#35-40dk\n",
        "kullanicilar=['BabalaTv','ProfDemirtas','haluklevent','pusholder','Darkwebhaber','yirmiucderece','solcugazete', #Tr de en çok etkileşim alan tweeter accountlar\n",
        "              'OguzhanUgur','vekilince','GalatasaraySK','aykiricomtr','RTErdogan']  #https://dogruveri.com/dunyada-en-cok-etkilesime-giren-yerli-twitter-hesaplari/\n",
        "final_tweets = [{\"name\":\"data\",\"value\":\"(500, 5) link  \\\\n0    https://…\",\"type\":\"DataFrame\"}]\n",
        "data = pd.DataFrame(final_tweets, columns = ['link','text','date','No_of_Likes','No_of_tweets']) #term, hashtag, user\n",
        "for kullanici in kullanicilar:\n",
        "  data = data.append(get_tweets(kullanici, 'user', 1000))\n",
        "data = data.reset_index(drop=True)  # Indeks numaralarını yeniden sırala"
      ],
      "metadata": {
        "id": "jPUu8XD1wr4R"
      },
      "execution_count": null,
      "outputs": []
    },
    {
      "cell_type": "code",
      "source": [
        "data #8810 adet tweet çekildi"
      ],
      "metadata": {
        "id": "4yNLF6fUCzsU"
      },
      "execution_count": null,
      "outputs": []
    },
    {
      "cell_type": "code",
      "source": [
        "data.drop(0,inplace=True) #ilk indexi Nan olarak alıyor onu silme"
      ],
      "metadata": {
        "id": "OFc4AenGBAEb"
      },
      "execution_count": null,
      "outputs": []
    },
    {
      "cell_type": "code",
      "source": [
        "data = data.reset_index(drop=True) #ve indexleri yeniden sıralama"
      ],
      "metadata": {
        "id": "rWdYB-8PBSbj"
      },
      "execution_count": null,
      "outputs": []
    },
    {
      "cell_type": "code",
      "source": [
        "data.to_csv('tweets.csv')"
      ],
      "metadata": {
        "id": "J5GDPQIr0wPc"
      },
      "execution_count": null,
      "outputs": []
    }
  ]
}